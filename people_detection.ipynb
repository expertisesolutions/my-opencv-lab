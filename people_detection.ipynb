{
 "cells": [
  {
   "cell_type": "markdown",
   "id": "infrared-raising",
   "metadata": {},
   "source": [
    "# Detecting People\n",
    "\n",
    "This is an initial experiment for learning purpose on using OpenCV for people detection on videos.\n",
    "\n",
    "The approach here is very simple:\n",
    "- Open the input video, get its shape and FPS.\n",
    "- Setup the output video with the same shape and FPS from the input video.\n",
    "- From the input video, get the image of the frame.\n",
    "- Run a full body pre-trained Haar Cascade Classifier on that image, that should return a list of detected full body in a form of a rectangle.\n",
    "- Draw the rectangles on the image.\n",
    "- Display the image.\n",
    "- Save the processed frames into the output video.\n",
    "\n",
    "### Reference\n",
    "[Computer Vision — Detecting objects using Haar Cascade Classifier](https://towardsdatascience.com/computer-vision-detecting-objects-using-haar-cascade-classifier-4585472829a9)"
   ]
  },
  {
   "cell_type": "code",
   "execution_count": 2,
   "id": "demographic-spank",
   "metadata": {
    "code_folding": []
   },
   "outputs": [
    {
     "name": "stdout",
     "output_type": "stream",
     "text": [
      "Frame width: 640\n",
      "Frame width: 360\n",
      "Video fps: 25.0\n",
      "Processing \"./360p_TownCentreXVID.mp4\" (7502 frames)...\n",
      "Done!\n",
      "1000 frames processed in 42.74022030830383 seconds.\n",
      "(0.042740220308303836) seconds per frame.\n",
      "(23.397165311422455) frames per second.\n",
      "Output saved to \"./output.mp4\".\n"
     ]
    }
   ],
   "source": [
    "import numpy as np\n",
    "import cv2  # or opencv-python\n",
    "import time\n",
    "\n",
    "# Create our body classifier\n",
    "detector = cv2.CascadeClassifier(\n",
    "    cv2.data.haarcascades + 'haarcascade_fullbody.xml'\n",
    ")\n",
    "\n",
    "# Open the input video capture\n",
    "#input_filename = './1080p_TownCentreXVID.mp4'\n",
    "#input_filename = './720p_TownCentreXVID.mp4'\n",
    "#input_filename = './480p_TownCentreXVID.mp4'\n",
    "input_filename = './360p_TownCentreXVID.mp4'\n",
    "vcap = cv2.VideoCapture(input_filename)\n",
    "\n",
    "# Get video properties\n",
    "frame_width = int(vcap.get(cv2.CAP_PROP_FRAME_WIDTH))\n",
    "frame_height = int(vcap.get(cv2.CAP_PROP_FRAME_HEIGHT))\n",
    "fps = vcap.get(cv2.CAP_PROP_FPS)\n",
    "n_frames = int(vcap.get(cv2.CAP_PROP_FRAME_COUNT))\n",
    "\n",
    "print(\"Frame width:\", frame_width)\n",
    "print(\"Frame width:\", frame_height)\n",
    "print(\"Video fps:\", fps)\n",
    "\n",
    "# Setup the output video file\n",
    "output_filename = './output.mp4'\n",
    "apiPreference = cv2.CAP_FFMPEG\n",
    "fourcc = cv2.VideoWriter_fourcc(*'mp4v')\n",
    "vout = cv2.VideoWriter(\n",
    "    filename=output_filename,\n",
    "    apiPreference=apiPreference,\n",
    "    fourcc=fourcc,\n",
    "    fps=fps,\n",
    "    frameSize=(frame_width, frame_height),\n",
    "    params=[]\n",
    ")\n",
    "\n",
    "print(f\"Processing \\\"{input_filename}\\\" ({int(n_frames)} frames)...\")\n",
    "\n",
    "# Start app\n",
    "window_name = \"People Tracking\"\n",
    "cv2.startWindowThread()\n",
    "cv2.namedWindow(window_name)\n",
    "\n",
    "# Loop each frame\n",
    "frame_count = 0\n",
    "frames_to_process = 1000\n",
    "processed_frames = np.zeros(frames_to_process, dtype=object)\n",
    "\n",
    "# start timer\n",
    "start = time.time()\n",
    "while vcap.isOpened():\n",
    "    # Read a frame\n",
    "    ret, frame = vcap.read()\n",
    "    if not ret or frame_count == frames_to_process:\n",
    "        break\n",
    "\n",
    "    # Apply the body classifier\n",
    "    bodies = detector.detectMultiScale(frame, 1.1, 3)\n",
    "\n",
    "    # Extract bounding boxes for any bodies identified\n",
    "    for (x, y, w, h) in bodies:\n",
    "        cv2.rectangle(frame, (x, y), (x+w, y+h), (0, 255, 0), 2)\n",
    "\n",
    "    # Save frame\n",
    "    processed_frames[frame_count] = frame\n",
    "    frame_count += 1\n",
    "\n",
    "    # Show in app\n",
    "    cv2.imshow(window_name, frame)\n",
    "    cv2.waitKey(1)\n",
    "\n",
    "# end timer\n",
    "end = time.time()\n",
    "overall_elapsed_time = end - start\n",
    "elapsed_time_per_frame = overall_elapsed_time / frame_count\n",
    "\n",
    "print(\"Done!\")\n",
    "print(f\"{frame_count} frames processed in {overall_elapsed_time} seconds.\")\n",
    "print(f\"({elapsed_time_per_frame}) seconds per frame.\")\n",
    "print(f\"({1/elapsed_time_per_frame}) frames per second.\")\n",
    "\n",
    "# Write processed frames to file\n",
    "for frame in processed_frames:\n",
    "    vout.write(frame)\n",
    "\n",
    "print(f\"Output saved to \\\"{output_filename}\\\".\")\n",
    "\n",
    "vcap.release()\n",
    "vout.release()\n",
    "cv2.destroyAllWindows()"
   ]
  }
 ],
 "metadata": {
  "hide_input": false,
  "kernelspec": {
   "display_name": "Python 3",
   "language": "python",
   "name": "python3"
  },
  "language_info": {
   "codemirror_mode": {
    "name": "ipython",
    "version": 3
   },
   "file_extension": ".py",
   "mimetype": "text/x-python",
   "name": "python",
   "nbconvert_exporter": "python",
   "pygments_lexer": "ipython3",
   "version": "3.8.7"
  },
  "toc": {
   "base_numbering": 1,
   "nav_menu": {},
   "number_sections": true,
   "sideBar": true,
   "skip_h1_title": false,
   "title_cell": "Table of Contents",
   "title_sidebar": "Contents",
   "toc_cell": false,
   "toc_position": {},
   "toc_section_display": true,
   "toc_window_display": false
  },
  "varInspector": {
   "cols": {
    "lenName": 16,
    "lenType": 16,
    "lenVar": 40
   },
   "kernels_config": {
    "python": {
     "delete_cmd_postfix": "",
     "delete_cmd_prefix": "del ",
     "library": "var_list.py",
     "varRefreshCmd": "print(var_dic_list())"
    },
    "r": {
     "delete_cmd_postfix": ") ",
     "delete_cmd_prefix": "rm(",
     "library": "var_list.r",
     "varRefreshCmd": "cat(var_dic_list()) "
    }
   },
   "types_to_exclude": [
    "module",
    "function",
    "builtin_function_or_method",
    "instance",
    "_Feature"
   ],
   "window_display": false
  }
 },
 "nbformat": 4,
 "nbformat_minor": 5
}
